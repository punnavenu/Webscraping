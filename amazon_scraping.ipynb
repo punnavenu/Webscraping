{
 "cells": [
  {
   "cell_type": "code",
   "execution_count": 57,
   "id": "arabic-middle",
   "metadata": {},
   "outputs": [],
   "source": [
    "import csv \n",
    "from bs4 import BeautifulSoup\n",
    "\n",
    "from selenium import webdriver\n"
   ]
  },
  {
   "cell_type": "code",
   "execution_count": 58,
   "id": "played-armstrong",
   "metadata": {},
   "outputs": [],
   "source": [
    "PATH = \"C:\\Program Files (x86)\\chromedriver.exe\"\n",
    "driver = webdriver.Chrome(PATH)\n",
    "url = 'https://amazon.com'\n",
    "driver.get(url)\n"
   ]
  },
  {
   "cell_type": "code",
   "execution_count": 59,
   "id": "successful-aquatic",
   "metadata": {},
   "outputs": [],
   "source": [
    "def get_url(search_term):\n",
    "    template = 'https://www.amazon.in/s?k={}&ref=nb_sb_noss_1'\n",
    "    search_term = search_term.replace(' ','+')\n",
    "    return template.format(search_term)"
   ]
  },
  {
   "cell_type": "code",
   "execution_count": 60,
   "id": "freelance-membership",
   "metadata": {},
   "outputs": [
    {
     "name": "stdout",
     "output_type": "stream",
     "text": [
      "https://www.amazon.in/s?k=ultrawide+monitor&ref=nb_sb_noss_1\n"
     ]
    }
   ],
   "source": [
    "url = get_url('ultrawide monitor')\n",
    "print(url)"
   ]
  },
  {
   "cell_type": "code",
   "execution_count": 61,
   "id": "whole-amateur",
   "metadata": {},
   "outputs": [],
   "source": [
    "driver.get(url)"
   ]
  },
  {
   "cell_type": "code",
   "execution_count": null,
   "id": "wireless-indie",
   "metadata": {},
   "outputs": [],
   "source": []
  },
  {
   "cell_type": "markdown",
   "id": "confused-settle",
   "metadata": {},
   "source": [
    "BEAUTIFUL SOUP FOR HTML PARSING"
   ]
  },
  {
   "cell_type": "code",
   "execution_count": 62,
   "id": "recognized-defensive",
   "metadata": {},
   "outputs": [
    {
     "data": {
      "text/plain": [
       "22"
      ]
     },
     "execution_count": 62,
     "metadata": {},
     "output_type": "execute_result"
    }
   ],
   "source": [
    "soup = BeautifulSoup(driver.page_source, 'html.parser')\n",
    "results = soup.find_all('div', {'data-component-type': 's-search-result'})\n",
    "len(results)"
   ]
  },
  {
   "cell_type": "code",
   "execution_count": 63,
   "id": "deluxe-kitchen",
   "metadata": {},
   "outputs": [
    {
     "name": "stdout",
     "output_type": "stream",
     "text": [
      "LG UltraWide 34 Inch WFHD (2560 x 1080) IPS Display - HDR 10, AMD Free sync, sRGB 99%, Multitasking and Gaming Monitor - 34WL500\n",
      "4.1 out of 5 stars\n",
      "135\n"
     ]
    }
   ],
   "source": [
    "item = results[0]\n",
    "atag = item.h2.a\n",
    "description = atag.text.strip()\n",
    "print(description)\n",
    "url = 'https://www.amazon.com' + atag.get('href')\n",
    "price_parent = item.find('span' , 'a-price')\n",
    "price = price_parent.find('span' , 'a-offscreen').text\n",
    "rating = item.i.text\n",
    "print(rating)\n",
    "review_count = item.find('span', {'class': 'a-size-base', 'dir': 'auto'}).text\n",
    "print(review_count)"
   ]
  },
  {
   "cell_type": "code",
   "execution_count": 64,
   "id": "choice-hobby",
   "metadata": {},
   "outputs": [],
   "source": [
    "def extract_record(item):\n",
    "    \"\"\"Extract and return data from single record\"\"\"\n",
    "    \n",
    "    #descritpion and url\n",
    "    atag = item.h2.a\n",
    "    description = atag.text.strip()\n",
    "    url = 'https://www.amazon.com' + atag.get('href')\n",
    "    \n",
    "    #price\n",
    "    price_parent = item.find('span' , 'a-price')\n",
    "    price = price_parent.find('span' , 'a-offscreen').text\n",
    "    \n",
    "    #rank and ratings \n",
    "    rating = item.i.text\n",
    "    review_count = item.find('span', {'class': 'a-size-base', 'dir': 'auto'}).text\n",
    "    result = (description, price, rating, review_count, url)\n",
    "\n",
    "    \n",
    "    \n",
    "    \n",
    "    return result\n",
    "\n",
    "    "
   ]
  },
  {
   "cell_type": "code",
   "execution_count": null,
   "id": "binding-underwear",
   "metadata": {},
   "outputs": [],
   "source": [
    "records = []\n",
    "results = soup.find_all('div' , {'data-component-type': 's-search-result'})\n",
    "#print(results)\n",
    "for item in results:\n",
    "    print(item)\n",
    "    #records.append(extract_record(item))"
   ]
  },
  {
   "cell_type": "code",
   "execution_count": 65,
   "id": "alpha-plastic",
   "metadata": {},
   "outputs": [],
   "source": [
    "def extract_record(item):\n",
    "    \"\"\"Extract and return data from single record\"\"\"\n",
    "    \n",
    "    #descritpion and url\n",
    "    atag = item.h2.a\n",
    "    description = atag.text.strip()\n",
    "    url = 'https://www.amazon.com' + atag.get('href')\n",
    "    \n",
    "    #price\n",
    "    price_parent = item.find('span' , 'a-price')\n",
    "    price = price_parent.find('span' , 'a-offscreen').text\n",
    "    \n",
    "    try:\n",
    "        \n",
    "        #rank and ratings \n",
    "        rating = item.i.text\n",
    "        review_count = item.find('span', {'class': 'a-size-base', 'dir': 'auto'}).text\n",
    "    except AttributeError:\n",
    "        rating = ''\n",
    "        review_count = ''\n",
    "    result = (description, price, rating, review_count, url)\n",
    "\n",
    "    \n",
    "    \n",
    "    \n",
    "    return result\n"
   ]
  },
  {
   "cell_type": "code",
   "execution_count": 66,
   "id": "running-fountain",
   "metadata": {},
   "outputs": [],
   "source": [
    "records = []\n",
    "results = soup.find_all('div' , {'data-component-type': 's-search-result'})\n",
    "#print(results)\n",
    "for item in results:\n",
    "    record = extract_record(item)\n",
    "    if record:\n",
    "        records.append(extract_record(item))"
   ]
  },
  {
   "cell_type": "code",
   "execution_count": 67,
   "id": "supreme-forty",
   "metadata": {},
   "outputs": [
    {
     "data": {
      "text/plain": [
       "('LG UltraWide 34 Inch WFHD (2560 x 1080) IPS Display - HDR 10, AMD Free sync, sRGB 99%, Multitasking and Gaming Monitor - 34WL500',\n",
       " '₹25,999',\n",
       " '4.1 out of 5 stars',\n",
       " '135',\n",
       " 'https://www.amazon.com/gp/slredirect/picassoRedirect.html/ref=pa_sp_atf_aps_sr_pg1_1?ie=UTF8&adId=A00127812XIBQ2H6IB41I&url=%2FLG-UltraWide-Inch-WFHD-Display%2Fdp%2FB08CF4LZT1%2Fref%3Dsr_1_1_sspa%3Fdchild%3D1%26keywords%3Dultrawide%2Bmonitor%26qid%3D1614162311%26sr%3D8-1-spons%26psc%3D1&qualifier=1614162311&id=4503793295409353&widgetName=sp_atf')"
      ]
     },
     "execution_count": 67,
     "metadata": {},
     "output_type": "execute_result"
    }
   ],
   "source": [
    "records[0]"
   ]
  },
  {
   "cell_type": "code",
   "execution_count": 68,
   "id": "comparative-torture",
   "metadata": {},
   "outputs": [
    {
     "name": "stdout",
     "output_type": "stream",
     "text": [
      "₹25,999\n",
      "₹16,499\n",
      "₹16,499\n",
      "₹16,999\n",
      "₹25,999\n",
      "₹13,985\n",
      "₹34,560\n",
      "₹16,299\n",
      "₹19,499\n",
      "₹14,199\n",
      "₹16,490\n",
      "₹15,999\n",
      "₹39,999\n",
      "₹42,000\n",
      "₹399\n",
      "₹15,999\n",
      "₹10,990\n",
      "₹16,490\n",
      "₹9,989\n",
      "₹319\n",
      "₹17,699\n",
      "₹11,899\n"
     ]
    }
   ],
   "source": [
    "for row in records:\n",
    "    print(row[1])"
   ]
  },
  {
   "cell_type": "code",
   "execution_count": 69,
   "id": "cardiovascular-magic",
   "metadata": {},
   "outputs": [],
   "source": [
    "def get_url(search_term):\n",
    "    template = 'https://www.amazon.in/s?k={}&ref=nb_sb_noss_1'\n",
    "    search_term = search_term.replace(' ','+')\n",
    "    return template.format(search_term)\n",
    " \n",
    "    #add term query to url\n",
    "    url = template.format(search_term)\n",
    "    \n",
    "    \n",
    "    #add page query placeholder \n",
    "    url+='&page{}'\n",
    "    return url"
   ]
  },
  {
   "cell_type": "code",
   "execution_count": 71,
   "id": "literary-answer",
   "metadata": {},
   "outputs": [],
   "source": [
    "## summarize and clean format"
   ]
  },
  {
   "cell_type": "code",
   "execution_count": 75,
   "id": "israeli-segment",
   "metadata": {},
   "outputs": [],
   "source": [
    "import csv \n",
    "from bs4 import BeautifulSoup\n",
    "\n",
    "from selenium import webdriver\n",
    "\n",
    "def get_url(search_term):\n",
    "    template = 'https://www.amazon.in/s?k={}&ref=nb_sb_noss_1'\n",
    "    search_term = search_term.replace(' ','+')\n",
    "    return template.format(search_term)\n",
    "    url+='&page{}'\n",
    "    return url\n",
    "\n",
    "def extract_record(item):\n",
    "    \"\"\"Extract and return data from single record\"\"\"\n",
    "    \n",
    "    #descritpion and url\n",
    "    atag = item.h2.a\n",
    "    description = atag.text.strip()\n",
    "    url = 'https://www.amazon.com' + atag.get('href')\n",
    "    \n",
    "    #price\n",
    "    price_parent = item.find('span' , 'a-price')\n",
    "    price = price_parent.find('span' , 'a-offscreen').text\n",
    "    \n",
    "    try:\n",
    "        \n",
    "        #rank and ratings \n",
    "        rating = item.i.text\n",
    "        review_count = item.find('span', {'class': 'a-size-base', 'dir': 'auto'}).text\n",
    "    except AttributeError:\n",
    "        rating = ''\n",
    "        review_count = ''\n",
    "    result = (description, price, rating, review_count, url)\n",
    "    return result\n",
    "\n",
    "def main(search_term):\n",
    "    \"\"\"Run main Program routine\"\"\"\n",
    "    # startup the webdriver\n",
    "    PATH = \"C:\\Program Files (x86)\\chromedriver.exe\"\n",
    "    driver = webdriver.Chrome(PATH)\n",
    "    url = 'https://amazon.com'\n",
    "    driver.get(url)    \n",
    "    record = []\n",
    "    url = get_url(search_term)\n",
    "    \n",
    "    for page in range(1,21):\n",
    "        driver.get(url.format(page))\n",
    "        soup = BeautifulSoup(driver.page_source, 'html.parser')\n",
    "        results = soup.find_all('div', {'data-component-type': 's-search-result'})\n",
    "        \n",
    "        for item in results:\n",
    "            record = extract_record(item)\n",
    "            if record:\n",
    "                records.append(record)\n",
    "                \n",
    "    driver.close()\n",
    "    \n",
    "    # save the data TO CSV file\n",
    "    with open ('results.csv', 'w' , newline='', encoding='utf-8') as f:\n",
    "        writer = csv.writer(f)\n",
    "        writer.writerow(['Description', 'Price', 'Rating', 'ReviewCount', 'Url'])\n",
    "        writer.writerows(records)"
   ]
  },
  {
   "cell_type": "code",
   "execution_count": 76,
   "id": "abandoned-machinery",
   "metadata": {},
   "outputs": [],
   "source": [
    "main('Ultrawide monitor')"
   ]
  },
  {
   "cell_type": "code",
   "execution_count": null,
   "id": "stone-lotus",
   "metadata": {},
   "outputs": [],
   "source": []
  }
 ],
 "metadata": {
  "kernelspec": {
   "display_name": "Python 3",
   "language": "python",
   "name": "python3"
  },
  "language_info": {
   "codemirror_mode": {
    "name": "ipython",
    "version": 3
   },
   "file_extension": ".py",
   "mimetype": "text/x-python",
   "name": "python",
   "nbconvert_exporter": "python",
   "pygments_lexer": "ipython3",
   "version": "3.8.5"
  }
 },
 "nbformat": 4,
 "nbformat_minor": 5
}
